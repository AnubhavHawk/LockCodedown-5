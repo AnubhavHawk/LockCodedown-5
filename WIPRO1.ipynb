{
 "cells": [
  {
   "cell_type": "code",
   "execution_count": 4,
   "metadata": {},
   "outputs": [
    {
     "name": "stdout",
     "output_type": "stream",
     "text": [
      "The original string is : hello red hello green hello yellow\n",
      "All K length substrings of string are : ['hell', 'ello', 'llo ', 'lo r', 'o re', ' red', 'red ', 'ed h', 'd he', ' hel', 'hell', 'ello', 'llo ', 'lo g', 'o gr', ' gre', 'gree', 'reen', 'een ', 'en h', 'n he', ' hel', 'hell', 'ello', 'llo ', 'lo y', 'o ye', ' yel', 'yell', 'ello', 'llow']\n"
     ]
    }
   ],
   "source": [
    "test_str = \"hello red hello green hello yellow\"\n",
    "  \n",
    "print(\"The original string is : \" + str(test_str)) \n",
    "  \n",
    "K = 4\n",
    "  \n",
    "res = [test_str[i: j] for i in range(len(test_str)) for j in range(i + 1, len(test_str) + 1) if len(test_str[i:j]) == K] \n",
    "  \n",
    "print(\"All K length substrings of string are : \" + str(res)) "
   ]
  },
  {
   "cell_type": "code",
   "execution_count": 8,
   "metadata": {},
   "outputs": [
    {
     "ename": "SyntaxError",
     "evalue": "invalid syntax (<ipython-input-8-af15b8338ea5>, line 13)",
     "output_type": "error",
     "traceback": [
      "\u001b[1;36m  File \u001b[1;32m\"<ipython-input-8-af15b8338ea5>\"\u001b[1;36m, line \u001b[1;32m13\u001b[0m\n\u001b[1;33m    print(s[i:len]);\u001b[0m\n\u001b[1;37m        ^\u001b[0m\n\u001b[1;31mSyntaxError\u001b[0m\u001b[1;31m:\u001b[0m invalid syntax\n"
     ]
    }
   ],
   "source": [
    "def subString(s, n): \n",
    "    # Pick starting point in outer loop \n",
    "    # and lengths of different strings for \n",
    "    # a given starting point \n",
    "    d={}\n",
    "    for i in range(n): \n",
    "        for len in range(i+1,n+1):\n",
    "            if len-i == 4:\n",
    "                if s[i: len] in d:\n",
    "                    d[s[i:len]] += 1\n",
    "                else:\n",
    "                    d[s[i:len]== 1\n",
    "                print(s[i:len]); \n",
    "    print(d)\n",
    "# Driver program to test above function \n",
    "s = input()\n",
    "subString(s,len(s));"
   ]
  },
  {
   "cell_type": "code",
   "execution_count": 15,
   "metadata": {},
   "outputs": [
    {
     "name": "stdout",
     "output_type": "stream",
     "text": [
      "hello red hello green hello blue\n",
      "{'hell': 3, 'ello': 3, 'llo ': 3, 'lo r': 1, 'o re': 1, ' red': 1, 'red ': 1, 'ed h': 1, 'd he': 1, ' hel': 2, 'lo g': 1, 'o gr': 1, ' gre': 1, 'gree': 1, 'reen': 1, 'een ': 1, 'en h': 1, 'n he': 1, 'lo b': 1, 'o bl': 1, ' blu': 1, 'blue': 1}\n"
     ]
    }
   ],
   "source": [
    "def subString(s, n): \n",
    "    # Pick starting point in outer loop \n",
    "    # and lengths of different strings for \n",
    "    # a given starting point \n",
    "    d={}\n",
    "    for i in range(n): \n",
    "        for len in range(i+1,n+1):\n",
    "            if len-i == 4:\n",
    "                if s[i: len] in d:\n",
    "                    d[s[i:len]] += 1\n",
    "                else:\n",
    "                    d[s[i:len]] = 1\n",
    "                 \n",
    "    print(d)\n",
    "# Driver program to test above function \n",
    "s = input()\n",
    "subString(s,len(s));"
   ]
  },
  {
   "cell_type": "code",
   "execution_count": null,
   "metadata": {},
   "outputs": [],
   "source": [
    "def subString(s, n): \n",
    "    d={}\n",
    "    for i in range(n): \n",
    "        for len in range(i+1,n+1):\n",
    "            if len-i == 4:\n",
    "                if s[i: len] in d:\n",
    "                    d[s[i:len]] += 1\n",
    "                else:\n",
    "                    d[s[i:len]] = 1\n",
    "                    \n",
    "                \n",
    "                \n",
    "    print(d)\n",
    "    #print(\"-------------\")\n",
    "    print(d.keys())\n",
    "    #print(\"------------\")\n",
    "    print(d.values())\n",
    "    #print(\"------------\")\n",
    "    print(max(d.values()))\n",
    "        \n",
    "\n",
    "s = input()\n",
    "subString(s,len(s));"
   ]
  },
  {
   "cell_type": "code",
   "execution_count": null,
   "metadata": {},
   "outputs": [],
   "source": [
    "def subString(s, n): \n",
    "    # Pick starting point in outer loop \n",
    "    # and lengths of different strings for \n",
    "    # a given starting point \n",
    "    d={}\n",
    "    for i in range(n): \n",
    "        for len in range(i+1,n+1):\n",
    "            if len-i == 4:\n",
    "                if s[i: len] in d:\n",
    "                    d[s[i:len]] += 1\n",
    "                else:\n",
    "                    d[s[i:len]] = 1\n",
    "                    \n",
    "                \n",
    "                \n",
    "    print(d)\n",
    "    print(\"-------------\")\n",
    "    print(d.keys())\n",
    "    print(\"------------\")\n",
    "    print(d.values())\n",
    "    print(\"------------\")\n",
    "    print(max(d.values()))\n",
    "    \n",
    "    m=max(d.values())\n",
    "    for i in d:\n",
    "        if d[i] == m:\n",
    "            print(i,end=\":\")\n",
    "\n",
    "        \n",
    "# Driver program to test above function \n",
    "s = input()\n",
    "subString(s,len(s));"
   ]
  }
 ],
 "metadata": {
  "kernelspec": {
   "display_name": "Python 3",
   "language": "python",
   "name": "python3"
  },
  "language_info": {
   "codemirror_mode": {
    "name": "ipython",
    "version": 3
   },
   "file_extension": ".py",
   "mimetype": "text/x-python",
   "name": "python",
   "nbconvert_exporter": "python",
   "pygments_lexer": "ipython3",
   "version": "3.7.4"
  }
 },
 "nbformat": 4,
 "nbformat_minor": 2
}
