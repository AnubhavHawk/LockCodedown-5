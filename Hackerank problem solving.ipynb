{
 "cells": [
  {
   "cell_type": "code",
   "execution_count": null,
   "metadata": {},
   "outputs": [],
   "source": [
    "def pdfViewer(arr,s,l):\n",
    "    mx = arr[(ord(s[0]) - 97)]\n",
    "    for i in range(1,l):\n",
    "        index = ord(s[i])\n",
    "        smallAns = index-97\n",
    "        if mx < arr[smallAns]:\n",
    "            mx = arr[smallAns]\n",
    "    return mx*l\n",
    "        \n",
    "\n",
    "\n",
    "arr = list(map(int,input().split()))\n",
    "s=input()\n",
    "l=len(s)\n",
    "print(pdfViewer(arr,s,l))"
   ]
  }
 ],
 "metadata": {
  "kernelspec": {
   "display_name": "Python 3",
   "language": "python",
   "name": "python3"
  },
  "language_info": {
   "codemirror_mode": {
    "name": "ipython",
    "version": 3
   },
   "file_extension": ".py",
   "mimetype": "text/x-python",
   "name": "python",
   "nbconvert_exporter": "python",
   "pygments_lexer": "ipython3",
   "version": "3.7.4"
  }
 },
 "nbformat": 4,
 "nbformat_minor": 2
}
