{
 "cells": [
  {
   "cell_type": "code",
   "execution_count": 2,
   "metadata": {},
   "outputs": [
    {
     "name": "stdout",
     "output_type": "stream",
     "text": [
      "Enter the numbers of elements:5\n",
      "\n",
      "Enter the numbers : 1 4 10 13 16\n",
      "7\n"
     ]
    }
   ],
   "source": [
    "def missing(a,N):\n",
    "#a=[1, 4, 10, 13, 16]\n",
    "#N=len(a)  we find the length of the given array and stored in variable N.\n",
    "    \n",
    "    c=int((a[N-1]-a[0])/N)  #To find the common difference of the Arithmetic progression,\n",
    "                            # we will find the difference between the last term and the initial term of the array \n",
    "                            # and divided by N\n",
    "    s=a[0]                         #We will assign a variable(s) as the initial term of the given array.\n",
    "    for k in range(1,N):              #To check which term is missing, we will run a for loop of range from 1 to N \n",
    "                                        #and check for every loop if the difference of loop term and s is not equal \n",
    "                                       #to common difference then the missing number is the sum of s and common difference  \n",
    "                                                   #else update the value of variable s by loop element.\n",
    "        if a[k]-s!=c:\n",
    "            print(s+c)\n",
    "            break\n",
    "        else:\n",
    "            s=a[k]\n",
    "N=int(input(\"Enter the numbers of elements:\"))        \n",
    "a=list(map(int,input(\"\\nEnter the numbers : \").strip().split()))[:N]\n",
    "missing(a,N)\n"
   ]
  }
 ],
 "metadata": {
  "kernelspec": {
   "display_name": "Python 3",
   "language": "python",
   "name": "python3"
  },
  "language_info": {
   "codemirror_mode": {
    "name": "ipython",
    "version": 3
   },
   "file_extension": ".py",
   "mimetype": "text/x-python",
   "name": "python",
   "nbconvert_exporter": "python",
   "pygments_lexer": "ipython3",
   "version": "3.7.4"
  }
 },
 "nbformat": 4,
 "nbformat_minor": 2
}
