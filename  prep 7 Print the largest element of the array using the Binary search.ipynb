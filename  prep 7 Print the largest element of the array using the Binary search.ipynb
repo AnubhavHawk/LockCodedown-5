{
 "cells": [
  {
   "cell_type": "code",
   "execution_count": 26,
   "metadata": {},
   "outputs": [
    {
     "name": "stdout",
     "output_type": "stream",
     "text": [
      "Enter the numbers of elements:5\n",
      "\n",
      "Enter the numbers : 2 3 4 50 10\n",
      "Element is present at index 3\n",
      "50\n"
     ]
    }
   ],
   "source": [
    "n=int(input(\"Enter the numbers of elements:\"))\n",
    "arr = list(map(int,input(\"\\nEnter the numbers : \").strip().split()))[:n]\n",
    "def binarySearch (arr, l, r, x): \n",
    "    if r >= l: \n",
    "  \n",
    "        mid = l + (r - l)//2\n",
    "        if arr[mid] == x: \n",
    "            return mid \n",
    "          \n",
    "    \n",
    "        elif arr[mid] > x: \n",
    "            return binarySearch(arr, l, mid-1, x) \n",
    "  \n",
    "        \n",
    "        else: \n",
    "            return binarySearch(arr, mid+1, r, x) \n",
    "  \n",
    "    else: \n",
    "        # Element is not present in the array \n",
    "        return -1\n",
    "    \n",
    "max = arr[0] \n",
    "n=len(arr)\n",
    "    \n",
    "for i in range(1, n): \n",
    "    if arr[i] > max: \n",
    "        max = arr[i]\n",
    "            \n",
    "#arr = [ 2, 3, 4, 50, 10 ] \n",
    "\n",
    "  \n",
    "# Function call \n",
    "result = binarySearch(arr, 0, len(arr)-1, max) \n",
    "  \n",
    "if result != -1: \n",
    "    print (\"Element is present at index %d\" % result) \n",
    "else: \n",
    "    print (\"Element is not present in array\")\n",
    "    \n",
    "print(arr[result])"
   ]
  }
 ],
 "metadata": {
  "kernelspec": {
   "display_name": "Python 3",
   "language": "python",
   "name": "python3"
  },
  "language_info": {
   "codemirror_mode": {
    "name": "ipython",
    "version": 3
   },
   "file_extension": ".py",
   "mimetype": "text/x-python",
   "name": "python",
   "nbconvert_exporter": "python",
   "pygments_lexer": "ipython3",
   "version": "3.7.4"
  }
 },
 "nbformat": 4,
 "nbformat_minor": 2
}
