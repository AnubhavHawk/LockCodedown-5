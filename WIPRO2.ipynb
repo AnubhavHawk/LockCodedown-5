{
 "cells": [
  {
   "cell_type": "code",
   "execution_count": 5,
   "metadata": {},
   "outputs": [
    {
     "ename": "IndentationError",
     "evalue": "unexpected indent (<ipython-input-5-c492fdb290ea>, line 20)",
     "output_type": "error",
     "traceback": [
      "\u001b[1;36m  File \u001b[1;32m\"<ipython-input-5-c492fdb290ea>\"\u001b[1;36m, line \u001b[1;32m20\u001b[0m\n\u001b[1;33m    m=max(d.values())\u001b[0m\n\u001b[1;37m    ^\u001b[0m\n\u001b[1;31mIndentationError\u001b[0m\u001b[1;31m:\u001b[0m unexpected indent\n"
     ]
    }
   ],
   "source": [
    "def subString(s, n):  \n",
    "    d={}\n",
    "    for i in range(n): \n",
    "        for len in range(i+1,n+1):\n",
    "            if len-i == 4:\n",
    "                if s[i: len] in d:\n",
    "                    d[s[i:len]] += 1\n",
    "                else:\n",
    "                    d[s[i:len]] = 1\n",
    "    print(d)\n",
    "    print(\"-------------\")\n",
    "    print(d.keys())\n",
    "    print(\"------------\")\n",
    "    print(d.values())\n",
    "    print(\"------------\")\n",
    "    print(max(d.values()))\n",
    "    \n",
    "print(an_array)  \n",
    "    \n",
    "    m=max(d.values())\n",
    "    for i in d:\n",
    "        if d[i] == m:\n",
    "            print(i,end=\":\")\n",
    "\n",
    "s = input()\n",
    "subString(s,len(s));"
   ]
  },
  {
   "cell_type": "code",
   "execution_count": 7,
   "metadata": {},
   "outputs": [
    {
     "name": "stdout",
     "output_type": "stream",
     "text": [
      "hello red hello green hello blue\n",
      "4\n",
      "hell:ello:llo \n"
     ]
    }
   ],
   "source": [
    "def subString(s, n, k): \n",
    "    d={}\n",
    "    for i in range(n): \n",
    "        for len in range(i+1,n+1):\n",
    "            if len-i == k:\n",
    "                if s[i: len] in d:\n",
    "                    d[s[i:len]] += 1\n",
    "                else:\n",
    "                    d[s[i:len]] = 1\n",
    "                    \n",
    "                \n",
    "    m=max(d.values())\n",
    "    s=[]\n",
    "    for i in d:\n",
    "        if d[i] == m:\n",
    "            s.append(i)\n",
    "            \n",
    "    print(\":\".join(s))\n",
    "\n",
    "        \n",
    "\n",
    "s = input()\n",
    "k=int(input())\n",
    "if k > 0:\n",
    "    subString(s,len(s),k); \n",
    "else:\n",
    "    print(\"error\")"
   ]
  },
  {
   "cell_type": "code",
   "execution_count": 10,
   "metadata": {},
   "outputs": [
    {
     "name": "stdout",
     "output_type": "stream",
     "text": [
      "hello red hello green hello yellow\n",
      "4\n",
      "ello\n"
     ]
    }
   ],
   "source": [
    "def subString(s, n, k): \n",
    "    d={}\n",
    "    for i in range(n): \n",
    "        for len in range(i+1,n+1):\n",
    "            if len-i == k:\n",
    "                if s[i: len] in d:\n",
    "                    d[s[i:len]] += 1\n",
    "                else:\n",
    "                    d[s[i:len]] = 1\n",
    "                    \n",
    "                \n",
    "    m=max(d.values())\n",
    "    s=[]\n",
    "    for i in d:\n",
    "        if d[i] == m:\n",
    "            s.append(i)\n",
    "    print(\":\".join(s))\n",
    "s = input()\n",
    "k=int(input())\n",
    "subString(s,len(s),k); "
   ]
  }
 ],
 "metadata": {
  "kernelspec": {
   "display_name": "Python 3",
   "language": "python",
   "name": "python3"
  },
  "language_info": {
   "codemirror_mode": {
    "name": "ipython",
    "version": 3
   },
   "file_extension": ".py",
   "mimetype": "text/x-python",
   "name": "python",
   "nbconvert_exporter": "python",
   "pygments_lexer": "ipython3",
   "version": "3.7.4"
  }
 },
 "nbformat": 4,
 "nbformat_minor": 2
}
