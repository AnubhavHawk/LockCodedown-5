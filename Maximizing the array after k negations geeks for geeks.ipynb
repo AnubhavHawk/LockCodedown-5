{
 "cells": [
  {
   "cell_type": "code",
   "execution_count": 6,
   "metadata": {},
   "outputs": [
    {
     "name": "stdout",
     "output_type": "stream",
     "text": [
      "20\n"
     ]
    }
   ],
   "source": [
    "def maxSum(a,n,k): #n=array size & k= no of time modification can be made\n",
    "    for i in range(1,k+1):\n",
    "        min=+2147483647\n",
    "        idx=-1\n",
    "        \n",
    "        for j in range(n):  #minimum element dhoondhenge agar min se chota hai to a[j]=-a[j] banao..\n",
    "            if(a[j]<min):\n",
    "                min=a[j]\n",
    "                idx=j\n",
    "        if(min==0):  #if zero to kuch nahi karenge\n",
    "            break\n",
    "        a[idx]=-a[idx]   #modification\n",
    "    sum=0\n",
    "    for i in range(n):\n",
    "        sum+=a[i]\n",
    "    return sum\n",
    "a=[9, 8, 8, 5]\n",
    "k=3\n",
    "n=len(a)\n",
    "print(maxSum(a,n,k))\n",
    "        "
   ]
  }
 ],
 "metadata": {
  "kernelspec": {
   "display_name": "Python 3",
   "language": "python",
   "name": "python3"
  },
  "language_info": {
   "codemirror_mode": {
    "name": "ipython",
    "version": 3
   },
   "file_extension": ".py",
   "mimetype": "text/x-python",
   "name": "python",
   "nbconvert_exporter": "python",
   "pygments_lexer": "ipython3",
   "version": "3.7.4"
  }
 },
 "nbformat": 4,
 "nbformat_minor": 2
}
