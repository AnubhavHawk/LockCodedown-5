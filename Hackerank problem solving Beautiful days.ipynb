{
 "cells": [
  {
   "cell_type": "code",
   "execution_count": null,
   "metadata": {},
   "outputs": [],
   "source": [
    "def reverse(num):\n",
    "    new = 0\n",
    "    while num>0:\n",
    "        rem = num%10\n",
    "        new = new*10 + rem\n",
    "        num =num//10\n",
    "    return new\n",
    "def beautifulDay(n,m,k):\n",
    "    count = 0\n",
    "    for i in range(n,m+1):\n",
    "        if i > reverse(i):\n",
    "            if (i- reverse(i))%k == 0:\n",
    "                count += 1\n",
    "        else:\n",
    "            if (reverse(i) - i)%k == 0:\n",
    "                count += 1\n",
    "    return count \n",
    "n,m,k = map(int,input().split())\n",
    "print(beautifulDay(n,m,k))"
   ]
  }
 ],
 "metadata": {
  "kernelspec": {
   "display_name": "Python 3",
   "language": "python",
   "name": "python3"
  },
  "language_info": {
   "codemirror_mode": {
    "name": "ipython",
    "version": 3
   },
   "file_extension": ".py",
   "mimetype": "text/x-python",
   "name": "python",
   "nbconvert_exporter": "python",
   "pygments_lexer": "ipython3",
   "version": "3.7.4"
  }
 },
 "nbformat": 4,
 "nbformat_minor": 2
}
