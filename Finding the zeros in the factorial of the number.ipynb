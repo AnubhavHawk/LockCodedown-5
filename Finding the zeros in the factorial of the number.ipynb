{
 "cells": [
  {
   "cell_type": "code",
   "execution_count": 4,
   "metadata": {},
   "outputs": [
    {
     "name": "stdout",
     "output_type": "stream",
     "text": [
      "enter the value:10\n",
      "2\n"
     ]
    }
   ],
   "source": [
    "def findZeroes(n):\n",
    "    ans=0\n",
    "    p=5\n",
    "    while((n//p)>0):\n",
    "        ans+=(n//p)\n",
    "        p=p*5\n",
    "    return ans\n",
    "\n",
    "if __name__ == \"__main__\":\n",
    "    n=int(input(\"enter the value:\"))\n",
    "    print(findZeroes(n))"
   ]
  }
 ],
 "metadata": {
  "kernelspec": {
   "display_name": "Python 3",
   "language": "python",
   "name": "python3"
  },
  "language_info": {
   "codemirror_mode": {
    "name": "ipython",
    "version": 3
   },
   "file_extension": ".py",
   "mimetype": "text/x-python",
   "name": "python",
   "nbconvert_exporter": "python",
   "pygments_lexer": "ipython3",
   "version": "3.7.4"
  }
 },
 "nbformat": 4,
 "nbformat_minor": 2
}
