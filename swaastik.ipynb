{
 "cells": [
  {
   "cell_type": "code",
   "execution_count": 137,
   "metadata": {},
   "outputs": [
    {
     "name": "stdout",
     "output_type": "stream",
     "text": [
      "enter the number:15\n",
      "*      ********\n",
      "*      *\n",
      "*      *\n",
      "*      *\n",
      "*      *\n",
      "*      *\n",
      "*      *\n",
      "***************\n",
      "       *      *\n",
      "       *      *\n",
      "       *      *\n",
      "       *      *\n",
      "       *      *\n",
      "       *      *\n",
      "********      *\n"
     ]
    }
   ],
   "source": [
    "n=int(input(\"enter the number:\"))\n",
    "print(\"*\",end=\"\")\n",
    "for i in range((n-3)//2):\n",
    "    print(\" \",end=\"\")\n",
    "for i in range((n+1)//2):\n",
    "    print(\"*\",end=\"\")\n",
    "print()\n",
    "\n",
    "#second\n",
    "for rows in range((n-3)//2):\n",
    "    print(\"*\",end=\"\")\n",
    "    #spaces...\n",
    "    for i in range((n-3)//2):\n",
    "        print(\" \",end=\"\")\n",
    "    print(\"*\")\n",
    "\n",
    "\n",
    "#Third....\n",
    "for i in range(n):\n",
    "    print(\"*\",end=\"\")\n",
    "print()\n",
    "\n",
    "#forth\n",
    "for rows in range((n-3)//2):\n",
    "    #spaces\n",
    "    for i in range((n-3)//2+1):\n",
    "        print(\" \",end=\"\")\n",
    "     \n",
    "    #star\n",
    "    print(\"*\",end=\"\")\n",
    "\n",
    "    #spaces\n",
    "    for i in range((n-3)//2):\n",
    "        print(\" \",end=\"\")\n",
    "    #star\n",
    "    print(\"*\")\n",
    "   \n",
    " #fifth..\n",
    "for i in range((n+1)//2):\n",
    "    print(\"*\",end=\"\")\n",
    "for i in range((n-3)//2):\n",
    "    print(\" \",end=\"\")\n",
    "    \n",
    "print(\"*\")\n",
    "    \n",
    "    \n",
    "\n",
    "\n"
   ]
  },
  {
   "cell_type": "code",
   "execution_count": null,
   "metadata": {},
   "outputs": [],
   "source": []
  }
 ],
 "metadata": {
  "kernelspec": {
   "display_name": "Python 3",
   "language": "python",
   "name": "python3"
  },
  "language_info": {
   "codemirror_mode": {
    "name": "ipython",
    "version": 3
   },
   "file_extension": ".py",
   "mimetype": "text/x-python",
   "name": "python",
   "nbconvert_exporter": "python",
   "pygments_lexer": "ipython3",
   "version": "3.7.4"
  }
 },
 "nbformat": 4,
 "nbformat_minor": 2
}
