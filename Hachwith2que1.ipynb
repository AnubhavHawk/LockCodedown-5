{
 "cells": [
  {
   "cell_type": "code",
   "execution_count": 1,
   "metadata": {},
   "outputs": [
    {
     "name": "stdout",
     "output_type": "stream",
     "text": [
      "4\n",
      "5\n",
      "1 2 3 4 5\n",
      "0 0 0 0 0\n",
      "15\n",
      "5\n",
      "5 4 3 2 1\n",
      "1 1 1 1 1\n",
      "0\n",
      "5\n",
      "5 4 3 2 1\n",
      "0 0 0 0 0 \n",
      "5\n",
      "5\n",
      "1 2 3 4 5\n",
      "0 0 1 0 0\n",
      "12\n"
     ]
    }
   ],
   "source": [
    "def is_sorted(a):\n",
    "    new_a = sorted(a)\n",
    "    if(new_a == a):\n",
    "        return True\n",
    "    else:\n",
    "        return False\n",
    "t = int(input())\n",
    "while(t > 0):\n",
    "    t -= 1\n",
    "    n = int(input())\n",
    "    a = list(map(int, input().split()))\n",
    "    b = list(map(int, input().split()))\n",
    "    one_count = b.count(1)\n",
    "    if(is_sorted(a)):\n",
    "        wr = 0\n",
    "        for i in range(n):\n",
    "            if(b[i] == 1):\n",
    "                wr += n- i\n",
    "        ans = n*(n+1)/2 - wr\n",
    "        print(int(ans))\n",
    "    elif(is_sorted(a[n::-1])):\n",
    "        if(one_count == 0):\n",
    "            print(n)\n",
    "        else:\n",
    "            print(0)\n",
    "    else:\n",
    "        ans = 0\n",
    "        last_index = 0\n",
    "        for i in range(n):\n",
    "            ans += 1\n",
    "            if(b[i] == 1):\n",
    "                j = i\n",
    "                while(i > last_index):\n",
    "                    if(is_sorted(a[last_index: i+1])):\n",
    "                        ans += 1\n",
    "                    i -= 1\n",
    "                last_index = i\n",
    "                    # pass\n",
    "        print(ans)"
   ]
  }
 ],
 "metadata": {
  "kernelspec": {
   "display_name": "Python 3",
   "language": "python",
   "name": "python3"
  },
  "language_info": {
   "codemirror_mode": {
    "name": "ipython",
    "version": 3
   },
   "file_extension": ".py",
   "mimetype": "text/x-python",
   "name": "python",
   "nbconvert_exporter": "python",
   "pygments_lexer": "ipython3",
   "version": "3.7.4"
  }
 },
 "nbformat": 4,
 "nbformat_minor": 2
}
