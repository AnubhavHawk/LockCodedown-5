{
 "cells": [
  {
   "cell_type": "code",
   "execution_count": null,
   "metadata": {},
   "outputs": [],
   "source": [
    "def angryProf(arr,n,k):\n",
    "    present = 0\n",
    "    for i in range(n):\n",
    "        if arr[i] <= 0:\n",
    "            present += 1\n",
    "        if present >= k:\n",
    "            return True\n",
    "    return False\n",
    "            \n",
    "t=int(input())\n",
    "for _ in range(t):\n",
    "    n,k = map(int,input().split())\n",
    "    arr = list(map(int,input().split()))\n",
    "    if angryProf(arr,n,k):\n",
    "        print(\"NO\")\n",
    "    else:\n",
    "        print(\"YES\")\n",
    "    "
   ]
  }
 ],
 "metadata": {
  "kernelspec": {
   "display_name": "Python 3",
   "language": "python",
   "name": "python3"
  },
  "language_info": {
   "codemirror_mode": {
    "name": "ipython",
    "version": 3
   },
   "file_extension": ".py",
   "mimetype": "text/x-python",
   "name": "python",
   "nbconvert_exporter": "python",
   "pygments_lexer": "ipython3",
   "version": "3.7.4"
  }
 },
 "nbformat": 4,
 "nbformat_minor": 2
}
