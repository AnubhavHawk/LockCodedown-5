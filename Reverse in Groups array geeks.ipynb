{
 "cells": [
  {
   "cell_type": "code",
   "execution_count": 8,
   "metadata": {},
   "outputs": [
    {
     "name": "stdout",
     "output_type": "stream",
     "text": [
      "1\n",
      "5 3\n",
      "1 2 3 4 5\n",
      "3 2 1 5 4 "
     ]
    }
   ],
   "source": [
    "def reverseGroups(arr,n,k):\n",
    "    i=0\n",
    "    while(i<n):\n",
    "        low=i\n",
    "        high=min(i+k-1,n-1)\n",
    "        while(low<high):\n",
    "            arr[low],arr[high]=arr[high],arr[low]\n",
    "            low+=1\n",
    "            high-=1\n",
    "        i+=k\n",
    "t=int(input())\n",
    "n, k = [int(n) for n in input().split()] \n",
    "arr = list(map(int, input().split())) \n",
    "\n",
    "reverseGroups(arr,n,k)\n",
    "for i in range(0,n):\n",
    "    print(arr[i],end=\" \")"
   ]
  }
 ],
 "metadata": {
  "kernelspec": {
   "display_name": "Python 3",
   "language": "python",
   "name": "python3"
  },
  "language_info": {
   "codemirror_mode": {
    "name": "ipython",
    "version": 3
   },
   "file_extension": ".py",
   "mimetype": "text/x-python",
   "name": "python",
   "nbconvert_exporter": "python",
   "pygments_lexer": "ipython3",
   "version": "3.7.4"
  }
 },
 "nbformat": 4,
 "nbformat_minor": 2
}
