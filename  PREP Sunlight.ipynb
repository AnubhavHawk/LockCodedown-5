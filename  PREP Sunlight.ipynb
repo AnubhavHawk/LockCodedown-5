{
 "cells": [
  {
   "cell_type": "code",
   "execution_count": 5,
   "metadata": {},
   "outputs": [
    {
     "name": "stdout",
     "output_type": "stream",
     "text": [
      "Enter the numbers of elements:5\n",
      "\n",
      "Enter the numbers : 7 4 8 2 9\n",
      "1\n",
      "2\n"
     ]
    }
   ],
   "source": [
    "n=int(input(\"Enter the numbers of elements:\"))\n",
    "arr = list(map(int,input(\"\\nEnter the numbers : \").strip().split()))[:n]\n",
    "#arr=[7,4,8,2,9]\n",
    "count=0\n",
    "for i in range(n-1):\n",
    "    if(arr[i]<arr[i+1]):\n",
    "        count=count+1\n",
    "        print(count)\n",
    "    else:\n",
    "        i+=1\n"
   ]
  },
  {
   "cell_type": "code",
   "execution_count": 9,
   "metadata": {},
   "outputs": [
    {
     "name": "stdout",
     "output_type": "stream",
     "text": [
      "Enter the numbers of elements:4\n",
      "\n",
      "Enter the numbers : 2 3 4 5\n",
      "4\n"
     ]
    }
   ],
   "source": [
    "n=int(input(\"Enter the numbers of elements:\"))\n",
    "arr = list(map(int,input(\"\\nEnter the numbers : \").strip().split()))[:n]\n",
    "count=1\n",
    "m=arr[0]\n",
    "for i in range(1,len(arr)):\n",
    "    if arr[i]>m:\n",
    "        count=count+1\n",
    "        m=arr[i]\n",
    "print(count)        "
   ]
  }
 ],
 "metadata": {
  "kernelspec": {
   "display_name": "Python 3",
   "language": "python",
   "name": "python3"
  },
  "language_info": {
   "codemirror_mode": {
    "name": "ipython",
    "version": 3
   },
   "file_extension": ".py",
   "mimetype": "text/x-python",
   "name": "python",
   "nbconvert_exporter": "python",
   "pygments_lexer": "ipython3",
   "version": "3.7.4"
  }
 },
 "nbformat": 4,
 "nbformat_minor": 2
}
