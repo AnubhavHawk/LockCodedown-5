{
 "cells": [
  {
   "cell_type": "code",
   "execution_count": 3,
   "metadata": {},
   "outputs": [
    {
     "name": "stdout",
     "output_type": "stream",
     "text": [
      "Enter the numbers of elements:5\n",
      "\n",
      "Enter the numbers : 1 1 0 -1 -1\n",
      "2 2 1\n",
      "0.4\n",
      "0.4\n",
      "0.2\n"
     ]
    }
   ],
   "source": [
    "n=int(input(\"Enter the numbers of elements:\"))\n",
    "arr = list(map(int,input(\"\\nEnter the numbers : \").strip().split()))[:n]\n",
    "positive=0\n",
    "negative=0\n",
    "zeroes=0\n",
    "for i in range(len(arr)):\n",
    "    if arr[i]>0:\n",
    "        positive=positive+1\n",
    "    elif arr[i]<0:\n",
    "        negative=negative+1\n",
    "    else:\n",
    "        zeroes=zeroes+1\n",
    "print(positive,negative,zeroes)\n",
    "fraction1=(positive/n)\n",
    "fraction2=(negative/n)\n",
    "fraction3=(zeroes/n)\n",
    "print(fraction1)\n",
    "print(fraction2)\n",
    "print(fraction3)\n",
    "        "
   ]
  }
 ],
 "metadata": {
  "kernelspec": {
   "display_name": "Python 3",
   "language": "python",
   "name": "python3"
  },
  "language_info": {
   "codemirror_mode": {
    "name": "ipython",
    "version": 3
   },
   "file_extension": ".py",
   "mimetype": "text/x-python",
   "name": "python",
   "nbconvert_exporter": "python",
   "pygments_lexer": "ipython3",
   "version": "3.7.4"
  }
 },
 "nbformat": 4,
 "nbformat_minor": 2
}
