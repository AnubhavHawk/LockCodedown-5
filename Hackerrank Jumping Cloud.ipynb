{
 "cells": [
  {
   "cell_type": "code",
   "execution_count": 22,
   "metadata": {},
   "outputs": [
    {
     "name": "stdout",
     "output_type": "stream",
     "text": [
      "8 2\n",
      "0 0 1 0 0 1 1 0\n",
      "92\n"
     ]
    }
   ],
   "source": [
    "def JumpingontheClouds(arr,n,k):\n",
    "    i=0\n",
    "    e=100\n",
    "    while (i+k)%n != 0:\n",
    "        if arr[(i+k) % n] == 1:\n",
    "            e -= 3\n",
    "            i += k\n",
    "        else:\n",
    "            e -= 1\n",
    "            i += k\n",
    "    ans = (i+k)%n\n",
    "    if arr[ans] == 1:\n",
    "        e -= 3\n",
    "    else:\n",
    "        e -= 1\n",
    "        \n",
    "    print(e)\n",
    "    \n",
    "n,k = map(int,input().split())\n",
    "arr = list(map(int,input().split()))\n",
    "JumpingontheClouds(arr,n,k)"
   ]
  }
 ],
 "metadata": {
  "kernelspec": {
   "display_name": "Python 3",
   "language": "python",
   "name": "python3"
  },
  "language_info": {
   "codemirror_mode": {
    "name": "ipython",
    "version": 3
   },
   "file_extension": ".py",
   "mimetype": "text/x-python",
   "name": "python",
   "nbconvert_exporter": "python",
   "pygments_lexer": "ipython3",
   "version": "3.7.4"
  }
 },
 "nbformat": 4,
 "nbformat_minor": 2
}
