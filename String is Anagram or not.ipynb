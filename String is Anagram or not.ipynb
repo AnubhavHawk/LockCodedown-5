{
 "cells": [
  {
   "cell_type": "code",
   "execution_count": 8,
   "metadata": {},
   "outputs": [
    {
     "name": "stdout",
     "output_type": "stream",
     "text": [
      "Yes\n"
     ]
    }
   ],
   "source": [
    " \n",
    "MAX_CHAR = 26; \n",
    "def areAnagrams(str1, str2, k): \n",
    "     \n",
    "    n = len(str1); \n",
    "    if (len(str2) != n): \n",
    "        return False; \n",
    "  \n",
    "    hash1 = [0]*(MAX_CHAR); \n",
    "    \n",
    "    for i in range(n):\n",
    "        hash1[ord(str1[i])-ord('a')]+=1\n",
    "        \n",
    "    count=0\n",
    "    for i in range(n):\n",
    "        if (hash1[ord(str2[i])-ord('a')]>0):\n",
    "            hash1[ord(str2[i])-ord('a')]-=1\n",
    "        else:\n",
    "            count+=1\n",
    "        if(count>k):\n",
    "            return False\n",
    "    return True\n",
    "str1 = \"fodr\"; \n",
    "str2 = \"gork\"; \n",
    "k = 2; \n",
    "if (areAnagrams(str1, str2, k) == True): \n",
    "    print(\"Yes\"); \n",
    "else: \n",
    "    print(\"No\");\n",
    "    "
   ]
  }
 ],
 "metadata": {
  "kernelspec": {
   "display_name": "Python 3",
   "language": "python",
   "name": "python3"
  },
  "language_info": {
   "codemirror_mode": {
    "name": "ipython",
    "version": 3
   },
   "file_extension": ".py",
   "mimetype": "text/x-python",
   "name": "python",
   "nbconvert_exporter": "python",
   "pygments_lexer": "ipython3",
   "version": "3.7.4"
  }
 },
 "nbformat": 4,
 "nbformat_minor": 2
}
