{
 "cells": [
  {
   "cell_type": "code",
   "execution_count": 3,
   "metadata": {},
   "outputs": [
    {
     "name": "stdout",
     "output_type": "stream",
     "text": [
      "8\n"
     ]
    }
   ],
   "source": [
    "def repeatingElement(arr,n):\n",
    "    s=set()\n",
    "    for i in range(n):\n",
    "        if arr[i] in s:\n",
    "            return arr[i]\n",
    "        s.add(arr[i])\n",
    "    return -1\n",
    "\n",
    "arr=[9,8,4,2,8,3]\n",
    "n=len(arr)\n",
    "print(repeatingElement(arr,n))"
   ]
  }
 ],
 "metadata": {
  "kernelspec": {
   "display_name": "Python 3",
   "language": "python",
   "name": "python3"
  },
  "language_info": {
   "codemirror_mode": {
    "name": "ipython",
    "version": 3
   },
   "file_extension": ".py",
   "mimetype": "text/x-python",
   "name": "python",
   "nbconvert_exporter": "python",
   "pygments_lexer": "ipython3",
   "version": "3.7.4"
  }
 },
 "nbformat": 4,
 "nbformat_minor": 2
}
