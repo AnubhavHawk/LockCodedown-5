{
 "cells": [
  {
   "cell_type": "code",
   "execution_count": 1,
   "metadata": {},
   "outputs": [
    {
     "name": "stdout",
     "output_type": "stream",
     "text": [
      "1\n",
      "11\n",
      "1 1 2 2 3 3 4 4 4 4 5\n",
      "4 5\n",
      "4\n"
     ]
    }
   ],
   "source": [
    "def majority(n,arr,x,y):\n",
    "    countX = 0\n",
    "    countY = 0\n",
    "    for i in range(n):\n",
    "        if arr[i] == x:\n",
    "            countX += 1\n",
    "        elif arr[i] == y:\n",
    "            countY += 1\n",
    "    if countX == countY:\n",
    "        if x < y:\n",
    "            return x\n",
    "        else:\n",
    "            return y\n",
    "    elif countX > countY:\n",
    "        return x\n",
    "    else:\n",
    "        return y\n",
    "    \n",
    "\n",
    "t=int(input())\n",
    "for _ in range(t):\n",
    "    n=int(input())\n",
    "    arr = list(map(int,input().split()))\n",
    "    x,y = map(int,input().split())\n",
    "    print(majority(n,arr,x,y))"
   ]
  }
 ],
 "metadata": {
  "kernelspec": {
   "display_name": "Python 3",
   "language": "python",
   "name": "python3"
  },
  "language_info": {
   "codemirror_mode": {
    "name": "ipython",
    "version": 3
   },
   "file_extension": ".py",
   "mimetype": "text/x-python",
   "name": "python",
   "nbconvert_exporter": "python",
   "pygments_lexer": "ipython3",
   "version": "3.7.4"
  }
 },
 "nbformat": 4,
 "nbformat_minor": 2
}
